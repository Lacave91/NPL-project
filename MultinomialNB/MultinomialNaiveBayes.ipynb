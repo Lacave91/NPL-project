{
 "cells": [
  {
   "cell_type": "markdown",
   "metadata": {},
   "source": [
    "# This is a notebook for Naive Based, training a model to be able to categorize fake vs real news"
   ]
  },
  {
   "cell_type": "code",
   "execution_count": 1,
   "metadata": {},
   "outputs": [],
   "source": [
    "import re\n",
    "import string\n",
    "import pandas as pd\n",
    "import seaborn as sns\n",
    "import matplotlib.pyplot as plt\n",
    "from sklearn.naive_bayes import MultinomialNB\n",
    "\n",
    "import nltk\n",
    "from nltk.corpus import stopwords\n",
    "from nltk.tokenize import word_tokenize\n",
    "from nltk.stem import PorterStemmer, WordNetLemmatizer\n",
    "\n",
    "from sklearn.svm import SVC\n",
    "from sklearn.metrics import r2_score\n",
    "from sklearn.metrics import confusion_matrix\n",
    "from sklearn.linear_model import LinearRegression\n",
    "from sklearn.linear_model import LogisticRegression\n",
    "from sklearn.model_selection import train_test_split\n",
    "from sklearn.metrics import accuracy_score, classification_report\n",
    "from sklearn.feature_extraction.text import CountVectorizer, TfidfVectorizer"
   ]
  },
  {
   "cell_type": "markdown",
   "metadata": {},
   "source": [
    "Load the data formating it correctly for easy use."
   ]
  },
  {
   "cell_type": "code",
   "execution_count": 2,
   "metadata": {},
   "outputs": [
    {
     "name": "stdout",
     "output_type": "stream",
     "text": [
      "   label                                              title\n",
      "0      0  donald trump sends out embarrassing new year‚s...\n",
      "1      0  drunk bragging trump staffer started russian c...\n",
      "2      0  sheriff david clarke becomes an internet joke ...\n",
      "3      0  trump is so obsessed he even has obama‚s name ...\n",
      "4      0  pope francis just called out donald trump duri...\n",
      "  label                                              title\n",
      "0     2  copycat muslim terrorist arrested with assault...\n",
      "1     2  wow! chicago protester caught on camera admits...\n",
      "2     2   germany's fdp look to fill schaeuble's big shoes\n",
      "3     2  mi school sends welcome back packet warning ki...\n",
      "4     2  u.n. seeks 'massive' aid boost amid rohingya '...\n"
     ]
    }
   ],
   "source": [
    "# Load the datasets formating them correctly for ease of use\n",
    "train_data = pd.read_csv(\n",
    "    r\"../training_data_lowercase.csv\",\n",
    "    sep='\\t',  # TAB serparator\n",
    "    header=None,\n",
    "    names=['label', 'title']\n",
    ")\n",
    "\n",
    "test_data = pd.read_csv(\n",
    "    r\"../testing_data_lowercase_nolabels.csv\",\n",
    "    sep='\\t',  # TAB separator\n",
    "    header=None,\n",
    "    names=['label', 'title']\n",
    ")\n",
    "\n",
    "print(train_data.head())\n",
    "print(test_data.head())"
   ]
  },
  {
   "cell_type": "markdown",
   "metadata": {},
   "source": [
    "Apply TF-IDF to the dataset to conver the words into numerical values for model training"
   ]
  },
  {
   "cell_type": "code",
   "execution_count": 3,
   "metadata": {},
   "outputs": [
    {
     "name": "stdout",
     "output_type": "stream",
     "text": [
      "Validation Accuracy: 0.9320743668569755\n",
      "Validation Classification Report:\n",
      "               precision    recall  f1-score   support\n",
      "\n",
      "           0       0.92      0.95      0.94      3510\n",
      "           1       0.95      0.91      0.93      3321\n",
      "\n",
      "    accuracy                           0.93      6831\n",
      "   macro avg       0.93      0.93      0.93      6831\n",
      "weighted avg       0.93      0.93      0.93      6831\n",
      "\n",
      "Validation R²: 0.7280893150811849\n",
      "\n",
      "--------------------------------------------------\n",
      "\n",
      "Test Accuracy: 0.9389547650417216\n",
      "Test Classification Report:\n",
      "               precision    recall  f1-score   support\n",
      "\n",
      "           0       0.93      0.95      0.94      3529\n",
      "           1       0.95      0.92      0.94      3302\n",
      "\n",
      "    accuracy                           0.94      6831\n",
      "   macro avg       0.94      0.94      0.94      6831\n",
      "weighted avg       0.94      0.94      0.94      6831\n",
      "\n",
      "Test R²: 0.7555491154969494\n"
     ]
    }
   ],
   "source": [
    "# TF-IDF Vectorization (Only fit on training data)\n",
    "tfidf_vectorizer = TfidfVectorizer()\n",
    "X_train_val, X_test, y_train_val, y_test = train_test_split(train_data['title'], train_data['label'], test_size=0.2, random_state=42)\n",
    "\n",
    "X_train, X_val, y_train, y_val = train_test_split(X_train_val, y_train_val, test_size=0.25, random_state=42)\n",
    "\n",
    "# Fit vectorizer only on training data\n",
    "tfidf_vectorizer.fit(X_train)\n",
    "\n",
    "# Transform all datasets consistently\n",
    "X_train = tfidf_vectorizer.transform(X_train)\n",
    "X_val = tfidf_vectorizer.transform(X_val)\n",
    "X_test = tfidf_vectorizer.transform(X_test)\n",
    "# Train the model\n",
    "model = MultinomialNB()\n",
    "model.fit(X_train, y_train)\n",
    "\n",
    "# Predict on validation set\n",
    "y_val_pred = model.predict(X_val)\n",
    "\n",
    "# Predict on test set\n",
    "y_test_pred = model.predict(X_test)\n",
    "\n",
    "# Evaluate the model\n",
    "print(f\"Validation Accuracy: {accuracy_score(y_val, y_val_pred)}\")\n",
    "print(\"Validation Classification Report:\\n\", classification_report(y_val, y_val_pred))\n",
    "print(f\"Validation R²: {r2_score(y_val, y_val_pred)}\")\n",
    "\n",
    "print(\"\\n\" + \"-\"*50 + \"\\n\")\n",
    "\n",
    "print(f\"Test Accuracy: {accuracy_score(y_test, y_test_pred)}\")\n",
    "print(\"Test Classification Report:\\n\", classification_report(y_test, y_test_pred))\n",
    "print(f\"Test R²: {r2_score(y_test, y_test_pred)}\")"
   ]
  },
  {
   "cell_type": "code",
   "execution_count": 4,
   "metadata": {},
   "outputs": [
    {
     "data": {
      "image/png": "[encoded data removed]",
      "text/plain": [
       "<Figure size 800x600 with 2 Axes>"
      ]
     },
     "metadata": {},
     "output_type": "display_data"
    }
   ],
   "source": [
    "# Calculate the confusion matrix\n",
    "conf_matrix = confusion_matrix(y_test, y_test_pred)\n",
    "plt.figure(figsize=(8, 6))\n",
    "sns.heatmap(conf_matrix, annot=True, fmt='d', cmap='Blues', xticklabels=['Fake', 'Real'], yticklabels=['Fake', 'Real'])\n",
    "plt.xlabel('Predicted')\n",
    "plt.ylabel('Actual')\n",
    "plt.title('Confusion Matrix')\n",
    "plt.show()"
   ]
  },
  {
   "cell_type": "code",
   "execution_count": 6,
   "metadata": {},
   "outputs": [
    {
     "name": "stdout",
     "output_type": "stream",
     "text": [
      "   label                                              title\n",
      "0      0  copycat muslim terrorist arrested with assault...\n",
      "1      0  wow! chicago protester caught on camera admits...\n",
      "2      1   germany's fdp look to fill schaeuble's big shoes\n",
      "3      0  mi school sends welcome back packet warning ki...\n",
      "4      1  u.n. seeks 'massive' aid boost amid rohingya '...\n"
     ]
    }
   ],
   "source": [
    "X_test_unlabeled = tfidf_vectorizer.transform(test_data['title'])\n",
    "\n",
    "# Predict labels for the unlabeled data\n",
    "predicted_labels = model.predict(X_test_unlabeled)\n",
    "test_data['label'] = predicted_labels\n",
    "print(test_data.head())"
   ]
  },
  {
   "cell_type": "code",
   "execution_count": 7,
   "metadata": {},
   "outputs": [
    {
     "name": "stdout",
     "output_type": "stream",
     "text": [
      "\n",
      ":white_check_mark: Predictions exported successfully in correct format!\n"
     ]
    }
   ],
   "source": [
    "# Make sure title is string, not list\n",
    "test_data['title'] = test_data['title'].apply(lambda x: ' '.join(x) if isinstance(x, list) else x)\n",
    "# Export respecting original format\n",
    "test_data[['label', 'title']].to_csv(\n",
    "    r'mnb_test_data.csv',\n",
    "    sep='\\t',  # TAB separator\n",
    "    index=False,\n",
    "    header=False  # No column names\n",
    ")\n",
    "print(\"\\n:white_check_mark: Predictions exported successfully in correct format!\")\n"
   ]
  }
 ],
 "metadata": {
  "kernelspec": {
   "display_name": "Python 3",
   "language": "python",
   "name": "python3"
  },
  "language_info": {
   "codemirror_mode": {
    "name": "ipython",
    "version": 3
   },
   "file_extension": ".py",
   "mimetype": "text/x-python",
   "name": "python",
   "nbconvert_exporter": "python",
   "pygments_lexer": "ipython3",
   "version": "3.13.1"
  }
 },
 "nbformat": 4,
 "nbformat_minor": 2
}
