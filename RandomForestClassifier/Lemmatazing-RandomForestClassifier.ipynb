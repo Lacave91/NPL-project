{
 "cells": [
  {
   "cell_type": "markdown",
   "metadata": {},
   "source": [
    "# This is a notebook for Random Forest Classifier, training a model to be able to categorize fake vs real news."
   ]
  },
  {
   "cell_type": "code",
   "execution_count": 1,
   "metadata": {},
   "outputs": [],
   "source": [
    "import re\n",
    "import string\n",
    "import pandas as pd\n",
    "import seaborn as sns\n",
    "import matplotlib.pyplot as plt\n",
    "\n",
    "import nltk \n",
    "from nltk import pos_tag\n",
    "from nltk.tokenize import word_tokenize\n",
    "from nltk.corpus import stopwords, wordnet\n",
    "from nltk.stem import PorterStemmer, WordNetLemmatizer\n",
    "\n",
    "\n",
    "from sklearn.metrics import r2_score\n",
    "from sklearn.metrics import confusion_matrix\n",
    "from sklearn.linear_model import LinearRegression\n",
    "from sklearn.ensemble import RandomForestClassifier\n",
    "from sklearn.linear_model import LogisticRegression\n",
    "from sklearn.model_selection import train_test_split\n",
    "from sklearn.metrics import accuracy_score, classification_report\n",
    "from sklearn.feature_extraction.text import CountVectorizer, TfidfVectorizer"
   ]
  },
  {
   "cell_type": "code",
   "execution_count": 2,
   "metadata": {},
   "outputs": [
    {
     "name": "stderr",
     "output_type": "stream",
     "text": [
      "[nltk_data] Downloading package punkt to\n",
      "[nltk_data]     C:\\Users\\alvar\\AppData\\Roaming\\nltk_data...\n",
      "[nltk_data]   Package punkt is already up-to-date!\n",
      "[nltk_data] Downloading package wordnet to\n",
      "[nltk_data]     C:\\Users\\alvar\\AppData\\Roaming\\nltk_data...\n",
      "[nltk_data]   Package wordnet is already up-to-date!\n",
      "[nltk_data] Downloading package averaged_perceptron_tagger to\n",
      "[nltk_data]     C:\\Users\\alvar\\AppData\\Roaming\\nltk_data...\n",
      "[nltk_data]   Package averaged_perceptron_tagger is already up-to-\n",
      "[nltk_data]       date!\n",
      "[nltk_data] Downloading package omw-1.4 to\n",
      "[nltk_data]     C:\\Users\\alvar\\AppData\\Roaming\\nltk_data...\n",
      "[nltk_data]   Package omw-1.4 is already up-to-date!\n"
     ]
    },
    {
     "data": {
      "text/plain": [
       "True"
      ]
     },
     "execution_count": 2,
     "metadata": {},
     "output_type": "execute_result"
    }
   ],
   "source": [
    "nltk.download('punkt')\n",
    "nltk.download('wordnet')\n",
    "nltk.download('averaged_perceptron_tagger')\n",
    "nltk.download('omw-1.4')"
   ]
  },
  {
   "cell_type": "markdown",
   "metadata": {},
   "source": [
    "Make a function to apply text preprocesing to the datasets. </br>\n",
    "Load the data formating it correctly for easy use and apply the preprocessing. </br>\n",
    "Split the data into a label and title columns so es easy to access only the title for training."
   ]
  },
  {
   "cell_type": "code",
   "execution_count": 3,
   "metadata": {},
   "outputs": [],
   "source": [
    "stop_words = set(stopwords.words('english'))\n",
    "\n",
    "def clean_text(text):\n",
    "    # Remove special characters\n",
    "    text = re.sub(r'[^\\w\\s]', '', text)\n",
    "    # Remove Numbers\n",
    "    text = re.sub(r'\\d+', '', text)\n",
    "    # Remove extra white space\n",
    "    text = text.strip()\n",
    "    # Remove punctuation\n",
    "    text = text.translate(str.maketrans('', '', string.punctuation))\n",
    "    # Remove stopwords\n",
    "    text = ' '.join([word for word in text.split() if word not in stop_words])\n",
    "    return text"
   ]
  },
  {
   "cell_type": "code",
   "execution_count": 4,
   "metadata": {},
   "outputs": [
    {
     "name": "stdout",
     "output_type": "stream",
     "text": [
      "   label                                              title\n",
      "0      0  donald trump sends out embarrassing new year‚s...\n",
      "1      0  drunk bragging trump staffer started russian c...\n",
      "2      0  sheriff david clarke becomes an internet joke ...\n",
      "3      0  trump is so obsessed he even has obama‚s name ...\n",
      "4      0  pope francis just called out donald trump duri...\n",
      "  label                                              title\n",
      "0     2  copycat muslim terrorist arrested with assault...\n",
      "1     2  wow! chicago protester caught on camera admits...\n",
      "2     2   germany's fdp look to fill schaeuble's big shoes\n",
      "3     2  mi school sends welcome back packet warning ki...\n",
      "4     2  u.n. seeks 'massive' aid boost amid rohingya '...\n"
     ]
    }
   ],
   "source": [
    "# Load the datasets formating them correctly for ease of use\n",
    "train_data = pd.read_csv(\n",
    "    r\"../training_data_lowercase.csv\",\n",
    "    sep='\\t',  # TAB serparator\n",
    "    header=None,\n",
    "    names=['label', 'title']\n",
    ")\n",
    "\n",
    "test_data = pd.read_csv(\n",
    "    r\"../testing_data_lowercase_nolabels.csv\",\n",
    "    sep='\\t',  # TAB separator\n",
    "    header=None,\n",
    "    names=['label', 'title']\n",
    ")\n",
    "\n",
    "print(train_data.head())\n",
    "print(test_data.head())"
   ]
  },
  {
   "cell_type": "code",
   "execution_count": 5,
   "metadata": {},
   "outputs": [
    {
     "name": "stdout",
     "output_type": "stream",
     "text": [
      "0    donald trump sends embarrassing new years eve ...\n",
      "1    drunk bragging trump staffer started russian c...\n",
      "2    sheriff david clarke becomes internet joke thr...\n",
      "3    trump obsessed even obamas name coded website ...\n",
      "4    pope francis called donald trump christmas speech\n",
      "Name: title, dtype: object\n",
      "0    copycat muslim terrorist arrested assault weapons\n",
      "1    wow chicago protester caught camera admits vio...\n",
      "2          germanys fdp look fill schaeubles big shoes\n",
      "3    mi school sends welcome back packet warning ki...\n",
      "4    un seeks massive aid boost amid rohingya emerg...\n",
      "Name: title, dtype: object\n"
     ]
    }
   ],
   "source": [
    "# Apply preprocessing to the 'title' column\n",
    "train_data['title'] = train_data['title'].apply(clean_text)\n",
    "test_data['title'] = test_data['title'].apply(clean_text)\n",
    "\n",
    "print(train_data['title'].head())\n",
    "print(test_data['title'].head())"
   ]
  },
  {
   "cell_type": "markdown",
   "metadata": {},
   "source": [
    "Tokenice and lemmatazing to prepare the titles to convert to numbers using TF_IDF."
   ]
  },
  {
   "cell_type": "code",
   "execution_count": 6,
   "metadata": {},
   "outputs": [
    {
     "name": "stdout",
     "output_type": "stream",
     "text": [
      "   label                                              title\n",
      "0      0  [donald, trump, sends, embarrassing, new, year...\n",
      "1      0  [drunk, bragging, trump, staffer, started, rus...\n",
      "2      0  [sheriff, david, clarke, becomes, internet, jo...\n",
      "3      0  [trump, obsessed, even, obamas, name, coded, w...\n",
      "4      0  [pope, francis, called, donald, trump, christm...\n",
      "  label                                              title\n",
      "0     2  [copycat, muslim, terrorist, arrested, assault...\n",
      "1     2  [wow, chicago, protester, caught, camera, admi...\n",
      "2     2  [germanys, fdp, look, fill, schaeubles, big, s...\n",
      "3     2  [mi, school, sends, welcome, back, packet, war...\n",
      "4     2  [un, seeks, massive, aid, boost, amid, rohingy...\n"
     ]
    }
   ],
   "source": [
    "# Tokenize train and testing data\n",
    "def tokenizeDataframe(text):\n",
    "    tokens = word_tokenize(text)\n",
    "    return tokens\n",
    "\n",
    "train_data['title'] = train_data['title'].apply(tokenizeDataframe)\n",
    "test_data['title'] = test_data['title'].apply(tokenizeDataframe)\n",
    "\n",
    "print(train_data.head())\n",
    "print(test_data.head())"
   ]
  },
  {
   "cell_type": "code",
   "execution_count": 7,
   "metadata": {},
   "outputs": [],
   "source": [
    "#lemmatizer\n",
    "lemmatizer = WordNetLemmatizer()\n",
    "\n",
    "#Tag map POS\n",
    "def get_wordnet_pos(tag):\n",
    "    if tag.startswith('J'):\n",
    "        return wordnet.ADJ\n",
    "    elif tag.startswith('V'):\n",
    "        return wordnet.VERB\n",
    "    elif tag.startswith('N'):\n",
    "        return wordnet.NOUN\n",
    "    elif tag.startswith('R'):\n",
    "        return wordnet.ADV\n",
    "    else:\n",
    "        return wordnet.NOUN  # Por defecto\n",
    "\n",
    "#Lemmatization function\n",
    "def lemmatize(text):\n",
    "        pos_tags = pos_tag(text)  \n",
    "    \n",
    "        lemmatized_words = [lemmatizer.lemmatize(word, get_wordnet_pos(pos)) for word, pos in pos_tags]\n",
    "        return lemmatized_words\n",
    "\n",
    "        "
   ]
  },
  {
   "cell_type": "code",
   "execution_count": 8,
   "metadata": {},
   "outputs": [
    {
     "name": "stdout",
     "output_type": "stream",
     "text": [
      "examples ready (Train): 0    [donald, trump, sends, embarrass, new, year, e...\n",
      "1    [drunk, brag, trump, staffer, start, russian, ...\n",
      "2    [sheriff, david, clarke, become, internet, jok...\n",
      "3    [trump, obsess, even, obamas, name, cod, websi...\n",
      "4    [pope, francis, call, donald, trump, christmas...\n",
      "Name: title, dtype: object\n",
      "\n",
      "examples ready (Test): 0    [copycat, muslim, terrorist, arrest, assault, ...\n",
      "1    [wow, chicago, protester, catch, camera, admit...\n",
      "2    [germany, fdp, look, fill, schaeubles, big, shoe]\n",
      "3    [mi, school, send, welcome, back, packet, warn...\n",
      "4    [un, seek, massive, aid, boost, amid, rohingya...\n",
      "Name: title, dtype: object\n"
     ]
    }
   ],
   "source": [
    "train_data['title'] = train_data['title'].apply(lemmatize)\n",
    "test_data['title'] = test_data['title'].apply(lemmatize)\n",
    "\n",
    "\n",
    "print(\"examples ready (Train):\", train_data['title'].head(5))\n",
    "print(\"\\nexamples ready (Test):\", test_data['title'].head(5))"
   ]
  },
  {
   "cell_type": "markdown",
   "metadata": {},
   "source": [
    "Apply TF-IDF to the dataset to conver the words into numerical values for model training."
   ]
  },
  {
   "cell_type": "code",
   "execution_count": 9,
   "metadata": {},
   "outputs": [
    {
     "name": "stdout",
     "output_type": "stream",
     "text": [
      "\n",
      "TF-IDF Feature Names: ['aar' 'aardvark' 'aaron' ... 'zurich' 'éblacklivesmatter' 'øqu']\n",
      "\n",
      "TF-IDF Representation:\n",
      " <Compressed Sparse Row sparse matrix of dtype 'float64'\n",
      "\twith 293342 stored elements and shape (34152, 18225)>\n",
      "  Coords\tValues\n",
      "  (0, 4744)\t0.24026606547848015\n",
      "  (0, 16539)\t0.10318757773719756\n",
      "  (0, 14411)\t0.4168085783718669\n",
      "  (0, 5182)\t0.3464663428008834\n",
      "  (0, 10844)\t0.21425952828049483\n",
      "  (0, 18095)\t0.2724872109860882\n",
      "  (0, 5485)\t0.4191314049248507\n",
      "  (0, 10145)\t0.31805044758264617\n",
      "  (0, 4650)\t0.490787710186662\n",
      "  (1, 16539)\t0.11042540414136283\n",
      "  (1, 4908)\t0.4598214074332046\n",
      "  (1, 1997)\t0.39333206741946086\n",
      "  (1, 15276)\t0.3898269355814579\n",
      "  (1, 15321)\t0.3358501111521489\n",
      "  (1, 13951)\t0.27935378258096133\n",
      "  (1, 3113)\t0.4090068440173763\n",
      "  (1, 8439)\t0.3340283176091662\n",
      "  (2, 14581)\t0.30871788732905375\n",
      "  (2, 3952)\t0.3361413949762025\n",
      "  (2, 2906)\t0.37444867269407556\n",
      "  (2, 1485)\t0.28763535117756256\n",
      "  (2, 8383)\t0.28763535117756256\n",
      "  (2, 8731)\t0.316764461066201\n",
      "  (2, 16148)\t0.2622526606895695\n",
      "  (2, 12164)\t0.41976572560336406\n",
      "  :\t:\n",
      "  (34148, 12845)\t0.37226400979404883\n",
      "  (34148, 10996)\t0.4213221022246261\n",
      "  (34149, 12418)\t0.221949584873432\n",
      "  (34149, 11987)\t0.3393341638566498\n",
      "  (34149, 8625)\t0.32227951335299293\n",
      "  (34149, 17474)\t0.2876014572175191\n",
      "  (34149, 8901)\t0.31856038371856327\n",
      "  (34149, 15633)\t0.3487212184925231\n",
      "  (34149, 318)\t0.32916025648291725\n",
      "  (34149, 13292)\t0.41117198335627214\n",
      "  (34149, 4967)\t0.38537766339874774\n",
      "  (34150, 17603)\t0.2908541413286351\n",
      "  (34150, 5109)\t0.2802432966217294\n",
      "  (34150, 9830)\t0.4138420262864231\n",
      "  (34150, 8625)\t0.3680763732600611\n",
      "  (34150, 4765)\t0.3521319301018627\n",
      "  (34150, 9971)\t0.30092759796662427\n",
      "  (34150, 12138)\t0.32523573464957345\n",
      "  (34150, 19)\t0.4580278652976936\n",
      "  (34151, 8306)\t0.3965064550015851\n",
      "  (34151, 6332)\t0.2969367461680627\n",
      "  (34151, 12173)\t0.28244517384083967\n",
      "  (34151, 4665)\t0.406255805232623\n",
      "  (34151, 4227)\t0.4960052505633425\n",
      "  (34151, 2528)\t0.5135863469949392\n"
     ]
    }
   ],
   "source": [
    "# Join tokenized words back into strings\n",
    "train_data['title'] = train_data['title'].apply(lambda tokens: ' '.join(tokens))\n",
    "\n",
    "tfidf_vectorizer = TfidfVectorizer()\n",
    "X_tfidf = tfidf_vectorizer.fit_transform(train_data['title'])\n",
    "\n",
    "print(\"\\nTF-IDF Feature Names:\", tfidf_vectorizer.get_feature_names_out())\n",
    "print(\"\\nTF-IDF Representation:\\n\", X_tfidf)"
   ]
  },
  {
   "cell_type": "code",
   "execution_count": 10,
   "metadata": {},
   "outputs": [],
   "source": [
    "#Train the model for Random Forest Classifier"
   ]
  },
  {
   "cell_type": "code",
   "execution_count": 11,
   "metadata": {},
   "outputs": [],
   "source": [
    "X_train, X_test, y_train, y_test = train_test_split(X_tfidf, train_data['label'], test_size=0.2, random_state=42)\n",
    "\n",
    "# Initialize the SVM model\n",
    "rfc_model = RandomForestClassifier(n_estimators=100, random_state=42)\n",
    "rfc_model.fit(X_train, y_train)\n",
    "\n",
    "# Predict on the test set\n",
    "y_pred_rfc = rfc_model.predict(X_test)"
   ]
  },
  {
   "cell_type": "code",
   "execution_count": 12,
   "metadata": {},
   "outputs": [
    {
     "name": "stdout",
     "output_type": "stream",
     "text": [
      "Random Forest Accuracy: 0.9167032645293515\n",
      "Random Forest Classification Report:\n",
      "               precision    recall  f1-score   support\n",
      "\n",
      "           0       0.92      0.92      0.92      3529\n",
      "           1       0.92      0.91      0.91      3302\n",
      "\n",
      "    accuracy                           0.92      6831\n",
      "   macro avg       0.92      0.92      0.92      6831\n",
      "weighted avg       0.92      0.92      0.92      6831\n",
      "\n",
      "R²: 0.6664447163495544\n"
     ]
    }
   ],
   "source": [
    "# Evaluate the model\n",
    "accuracy_rfc = accuracy_score(y_test, y_pred_rfc)\n",
    "report_rfc = classification_report(y_test, y_pred_rfc)\n",
    "\n",
    "# Calculate R²\n",
    "r2 = r2_score(y_test, y_pred_rfc)\n",
    "\n",
    "print(f\"Random Forest Accuracy: {accuracy_rfc}\")\n",
    "print(\"Random Forest Classification Report:\\n\", report_rfc)\n",
    "print(f\"R²: {r2}\")"
   ]
  },
  {
   "cell_type": "code",
   "execution_count": 13,
   "metadata": {},
   "outputs": [
    {
     "data": {
      "image/png": "[encoded data removed]",
      "text/plain": [
       "<Figure size 800x600 with 2 Axes>"
      ]
     },
     "metadata": {},
     "output_type": "display_data"
    }
   ],
   "source": [
    "# Calculate the confusion matrix\n",
    "conf_matrix = confusion_matrix(y_test, y_pred_rfc)\n",
    "\n",
    "# Plot the confusion matrix\n",
    "plt.figure(figsize=(8, 6))\n",
    "sns.heatmap(conf_matrix, annot=True, fmt='d', cmap='Blues', xticklabels=['Fake', 'Real'], yticklabels=['Fake', 'Real'])\n",
    "plt.xlabel('Predicted')\n",
    "plt.ylabel('Actual')\n",
    "plt.title('Confusion Matrix')\n",
    "plt.show()"
   ]
  },
  {
   "cell_type": "markdown",
   "metadata": {},
   "source": [
    "Predict labels for the testing data and write them on a csv file."
   ]
  },
  {
   "cell_type": "code",
   "execution_count": 14,
   "metadata": {},
   "outputs": [
    {
     "name": "stdout",
     "output_type": "stream",
     "text": [
      "   label                                              title\n",
      "0      0  [copycat, muslim, terrorist, arrest, assault, ...\n",
      "1      0  [wow, chicago, protester, catch, camera, admit...\n",
      "2      1  [germany, fdp, look, fill, schaeubles, big, shoe]\n",
      "3      0  [mi, school, send, welcome, back, packet, warn...\n",
      "4      1  [un, seek, massive, aid, boost, amid, rohingya...\n"
     ]
    }
   ],
   "source": [
    "X_test_unlabeled = tfidf_vectorizer.transform(test_data['title'].apply(lambda tokens: ' '.join(tokens)))\n",
    "\n",
    "# Predict labels for the unlabeled data\n",
    "predicted_labels = rfc_model.predict(X_test_unlabeled)\n",
    "\n",
    "test_data['label'] = predicted_labels\n",
    "\n",
    "# Display the first few rows of the updated testing data\n",
    "print(test_data.head())"
   ]
  },
  {
   "cell_type": "code",
   "execution_count": 15,
   "metadata": {},
   "outputs": [
    {
     "name": "stdout",
     "output_type": "stream",
     "text": [
      "   label                                              title\n",
      "0      0  copycat muslim terrorist arrested with assault...\n",
      "1      0  wow! chicago protester caught on camera admits...\n",
      "2      1   germany's fdp look to fill schaeuble's big shoes\n",
      "3      0  mi school sends welcome back packet warning ki...\n",
      "4      1  u.n. seeks 'massive' aid boost amid rohingya '...\n"
     ]
    }
   ],
   "source": [
    "# split the label column and title column\n",
    "test_data_rewrite = pd.read_csv(\n",
    "    r\"../testing_data_lowercase_nolabels.csv\",\n",
    "    sep='\\t',  # TAB separator\n",
    "    header=None,\n",
    "    names=['label', 'title']\n",
    ")\n",
    "\n",
    "# write the new labels in place of the placeholders\n",
    "test_data_rewrite['label'] = predicted_labels\n",
    "\n",
    "# store the changes in a file\n",
    "test_data_rewrite.to_csv('Lemmatazing_rfc_test_data.csv', index=False)\n",
    "\n",
    "print(test_data_rewrite.head())"
   ]
  }
 ],
 "metadata": {
  "kernelspec": {
   "display_name": "Python 3",
   "language": "python",
   "name": "python3"
  },
  "language_info": {
   "codemirror_mode": {
    "name": "ipython",
    "version": 3
   },
   "file_extension": ".py",
   "mimetype": "text/x-python",
   "name": "python",
   "nbconvert_exporter": "python",
   "pygments_lexer": "ipython3",
   "version": "3.13.1"
  }
 },
 "nbformat": 4,
 "nbformat_minor": 2
}
