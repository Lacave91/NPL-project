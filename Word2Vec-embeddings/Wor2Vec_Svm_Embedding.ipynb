{
  "cells": [
    {
      "cell_type": "markdown",
      "metadata": {
        "id": "BHmbMZLZzkOU"
      },
      "source": [
        "# This is a notebook for SVM (with Stemming and Wor2Vec), training a model to be able to categorize fake vs real news"
      ]
    },
    {
      "cell_type": "code",
      "execution_count": 1,
      "metadata": {
        "colab": {
          "base_uri": "https://localhost:8080/"
        },
        "id": "vCTgNKHkzkOZ",
        "outputId": "844330c2-dd9a-47fc-9ffa-baee04e87882"
      },
      "outputs": [
        {
          "name": "stderr",
          "output_type": "stream",
          "text": [
            "[nltk_data] Downloading package punkt_tab to\n",
            "[nltk_data]     C:\\Users\\alvar\\AppData\\Roaming\\nltk_data...\n",
            "[nltk_data]   Package punkt_tab is already up-to-date!\n",
            "[nltk_data] Downloading package stopwords to\n",
            "[nltk_data]     C:\\Users\\alvar\\AppData\\Roaming\\nltk_data...\n",
            "[nltk_data]   Package stopwords is already up-to-date!\n",
            "[nltk_data] Downloading package punkt to\n",
            "[nltk_data]     C:\\Users\\alvar\\AppData\\Roaming\\nltk_data...\n",
            "[nltk_data]   Package punkt is already up-to-date!\n"
          ]
        }
      ],
      "source": [
        "import re\n",
        "import string\n",
        "import pandas as pd\n",
        "import seaborn as sns\n",
        "import matplotlib.pyplot as plt\n",
        "\n",
        "import nltk\n",
        "from nltk.corpus import stopwords\n",
        "from nltk.tokenize import word_tokenize\n",
        "from nltk.stem import PorterStemmer, WordNetLemmatizer\n",
        "\n",
        "nltk.download('punkt_tab')\n",
        "nltk.download('stopwords')\n",
        "nltk.download('punkt')\n",
        "\n",
        "from sklearn.svm import SVC\n",
        "from sklearn.metrics import r2_score\n",
        "from sklearn.metrics import confusion_matrix\n",
        "from sklearn.linear_model import LinearRegression\n",
        "from sklearn.linear_model import LogisticRegression\n",
        "from sklearn.model_selection import train_test_split\n",
        "from sklearn.metrics import accuracy_score, classification_report\n",
        "from sklearn.feature_extraction.text import CountVectorizer, TfidfVectorizer"
      ]
    },
    {
      "cell_type": "code",
      "execution_count": 2,
      "metadata": {
        "id": "SncsKsIPzv0C"
      },
      "outputs": [
        {
          "ename": "ModuleNotFoundError",
          "evalue": "No module named 'gensim'",
          "output_type": "error",
          "traceback": [
            "\u001b[1;31m---------------------------------------------------------------------------\u001b[0m",
            "\u001b[1;31mModuleNotFoundError\u001b[0m                       Traceback (most recent call last)",
            "Cell \u001b[1;32mIn[2], line 2\u001b[0m\n\u001b[0;32m      1\u001b[0m \u001b[38;5;28;01mimport\u001b[39;00m\u001b[38;5;250m \u001b[39m\u001b[38;5;21;01mnumpy\u001b[39;00m\u001b[38;5;250m \u001b[39m\u001b[38;5;28;01mas\u001b[39;00m\u001b[38;5;250m \u001b[39m\u001b[38;5;21;01mnp\u001b[39;00m\n\u001b[1;32m----> 2\u001b[0m \u001b[38;5;28;01mfrom\u001b[39;00m\u001b[38;5;250m \u001b[39m\u001b[38;5;21;01mgensim\u001b[39;00m\u001b[38;5;21;01m.\u001b[39;00m\u001b[38;5;21;01mmodels\u001b[39;00m\u001b[38;5;250m \u001b[39m\u001b[38;5;28;01mimport\u001b[39;00m Word2Vec\n\u001b[0;32m      3\u001b[0m \u001b[38;5;28;01mfrom\u001b[39;00m\u001b[38;5;250m \u001b[39m\u001b[38;5;21;01msklearn\u001b[39;00m\u001b[38;5;21;01m.\u001b[39;00m\u001b[38;5;21;01mfeature_extraction\u001b[39;00m\u001b[38;5;21;01m.\u001b[39;00m\u001b[38;5;21;01mtext\u001b[39;00m\u001b[38;5;250m \u001b[39m\u001b[38;5;28;01mimport\u001b[39;00m TfidfVectorizer\n",
            "\u001b[1;31mModuleNotFoundError\u001b[0m: No module named 'gensim'"
          ]
        }
      ],
      "source": [
        "import numpy as np\n",
        "from gensim.models import Word2Vec\n",
        "from sklearn.feature_extraction.text import TfidfVectorizer"
      ]
    },
    {
      "cell_type": "markdown",
      "metadata": {
        "id": "nUFQ6OdyzkOa"
      },
      "source": [
        "Make a function to apply text preprocesing to the datasets. </br>\n",
        "Load the data formating it correctly for easy use and apply the preporcessing </br>\n",
        "Split the data into a label and title columns so es easy to access only the title for training"
      ]
    },
    {
      "cell_type": "code",
      "execution_count": null,
      "metadata": {
        "colab": {
          "base_uri": "https://localhost:8080/"
        },
        "id": "jU-b3SZ4zkOb",
        "outputId": "c8aa2822-322d-4070-e948-88c2243d5c69"
      },
      "outputs": [
        {
          "name": "stderr",
          "output_type": "stream",
          "text": [
            "[nltk_data] Downloading package stopwords to /root/nltk_data...\n",
            "[nltk_data]   Unzipping corpora/stopwords.zip.\n"
          ]
        }
      ],
      "source": [
        "nltk.download('stopwords')\n",
        "stop_words = set(stopwords.words('english'))\n",
        "\n",
        "def clean_text(text):\n",
        "    # Remove special characters\n",
        "    text = re.sub(r'[^\\w\\s]', '', text)\n",
        "    # Remove Numbers\n",
        "    text = re.sub(r'\\d+', '', text)\n",
        "    # Remove extra white space\n",
        "    text = text.strip()\n",
        "    # Remove punctuation\n",
        "    text = text.translate(str.maketrans('', '', string.punctuation))\n",
        "    # Remove stopwords\n",
        "    text = ' '.join([word for word in text.split() if word not in stop_words])\n",
        "    return text"
      ]
    },
    {
      "cell_type": "code",
      "execution_count": null,
      "metadata": {
        "colab": {
          "base_uri": "https://localhost:8080/"
        },
        "id": "cIeEOvsXzkOb",
        "outputId": "ca73190e-eb3b-4819-bfe3-85653f4201f1"
      },
      "outputs": [
        {
          "name": "stdout",
          "output_type": "stream",
          "text": [
            "   label                                              title\n",
            "0      0  donald trump sends out embarrassing new year‚s...\n",
            "1      0  drunk bragging trump staffer started russian c...\n",
            "2      0  sheriff david clarke becomes an internet joke ...\n",
            "3      0  trump is so obsessed he even has obama‚s name ...\n",
            "4      0  pope francis just called out donald trump duri...\n",
            "  label                                              title\n",
            "0     2  copycat muslim terrorist arrested with assault...\n",
            "1     2  wow! chicago protester caught on camera admits...\n",
            "2     2   germany's fdp look to fill schaeuble's big shoes\n",
            "3     2  mi school sends welcome back packet warning ki...\n",
            "4     2  u.n. seeks 'massive' aid boost amid rohingya '...\n"
          ]
        }
      ],
      "source": [
        "# Load the datasets formating them correctly for ease of use\n",
        "train_data = pd.read_csv(\n",
        "    r\"/content/training_data_lowercase.csv\",\n",
        "    sep='\\t',  # TAB serparator\n",
        "    header=None,\n",
        "    names=['label', 'title']\n",
        ")\n",
        "\n",
        "test_data = pd.read_csv(\n",
        "    r\"/content/testing_data_lowercase_nolabels.csv\",\n",
        "    sep='\\t',  # TAB serparator\n",
        "    header=None,\n",
        "    names=['label', 'title']\n",
        ")\n",
        "\n",
        "print(train_data.head())\n",
        "print(test_data.head())"
      ]
    },
    {
      "cell_type": "code",
      "execution_count": null,
      "metadata": {
        "colab": {
          "base_uri": "https://localhost:8080/"
        },
        "id": "q3JESkYUzkOd",
        "outputId": "cd621893-3c1e-4a54-cbab-e54229cfef2f"
      },
      "outputs": [
        {
          "name": "stdout",
          "output_type": "stream",
          "text": [
            "0    donald trump sends embarrassing new years eve ...\n",
            "1    drunk bragging trump staffer started russian c...\n",
            "2    sheriff david clarke becomes internet joke thr...\n",
            "3    trump obsessed even obamas name coded website ...\n",
            "4    pope francis called donald trump christmas speech\n",
            "Name: title, dtype: object\n",
            "0    copycat muslim terrorist arrested assault weapons\n",
            "1    wow chicago protester caught camera admits vio...\n",
            "2          germanys fdp look fill schaeubles big shoes\n",
            "3    mi school sends welcome back packet warning ki...\n",
            "4    un seeks massive aid boost amid rohingya emerg...\n",
            "Name: title, dtype: object\n"
          ]
        }
      ],
      "source": [
        "# Apply preprocessing to the 'title' column\n",
        "train_data['title'] = train_data['title'].apply(clean_text)\n",
        "test_data['title'] = test_data['title'].apply(clean_text)\n",
        "\n",
        "print(train_data['title'].head())\n",
        "print(test_data['title'].head())"
      ]
    },
    {
      "cell_type": "markdown",
      "metadata": {
        "id": "_gS6C4DpzkOe"
      },
      "source": [
        "Tokenice and stemming to prepare the titles to convert to numbers using TF_IDF"
      ]
    },
    {
      "cell_type": "code",
      "execution_count": null,
      "metadata": {
        "colab": {
          "base_uri": "https://localhost:8080/"
        },
        "id": "das3-RwwzkOf",
        "outputId": "fa36345d-9b30-4c9d-ab86-33802e9f42b1"
      },
      "outputs": [
        {
          "name": "stdout",
          "output_type": "stream",
          "text": [
            "   label                                              title\n",
            "0      0  [donald, trump, sends, embarrassing, new, year...\n",
            "1      0  [drunk, bragging, trump, staffer, started, rus...\n",
            "2      0  [sheriff, david, clarke, becomes, internet, jo...\n",
            "3      0  [trump, obsessed, even, obamas, name, coded, w...\n",
            "4      0  [pope, francis, called, donald, trump, christm...\n",
            "  label                                              title\n",
            "0     2  [copycat, muslim, terrorist, arrested, assault...\n",
            "1     2  [wow, chicago, protester, caught, camera, admi...\n",
            "2     2  [germanys, fdp, look, fill, schaeubles, big, s...\n",
            "3     2  [mi, school, sends, welcome, back, packet, war...\n",
            "4     2  [un, seeks, massive, aid, boost, amid, rohingy...\n"
          ]
        }
      ],
      "source": [
        "# Tokenize train and testing data\n",
        "def tokenizeDataframe(text):\n",
        "    tokens = word_tokenize(text)\n",
        "    return tokens\n",
        "\n",
        "train_data['title'] = train_data['title'].apply(tokenizeDataframe)\n",
        "test_data['title'] = test_data['title'].apply(tokenizeDataframe)\n",
        "\n",
        "print(train_data.head())\n",
        "print(test_data.head())"
      ]
    },
    {
      "cell_type": "code",
      "execution_count": null,
      "metadata": {
        "colab": {
          "base_uri": "https://localhost:8080/"
        },
        "id": "2dAFeTlgzkOg",
        "outputId": "d718dfda-f3c6-41b3-874e-159ab082774c"
      },
      "outputs": [
        {
          "name": "stdout",
          "output_type": "stream",
          "text": [
            "Stemmed Tokens: 0    [donald, trump, send, embarrass, new, year, ev...\n",
            "1    [drunk, brag, trump, staffer, start, russian, ...\n",
            "2    [sheriff, david, clark, becom, internet, joke,...\n",
            "3    [trump, obsess, even, obama, name, code, websi...\n",
            "4    [pope, franci, call, donald, trump, christma, ...\n",
            "Name: title, dtype: object\n",
            "Stemmed Tokens: 0    [copycat, muslim, terrorist, arrest, assault, ...\n",
            "1    [wow, chicago, protest, caught, camera, admit,...\n",
            "2      [germani, fdp, look, fill, schaeubl, big, shoe]\n",
            "3    [mi, school, send, welcom, back, packet, warn,...\n",
            "4    [un, seek, massiv, aid, boost, amid, rohingya,...\n",
            "Name: title, dtype: object\n"
          ]
        }
      ],
      "source": [
        "# stemming for simplifying the words\n",
        "stemmer = PorterStemmer()\n",
        "train_data['title'] = train_data['title'].apply(lambda title: [stemmer.stem(word) for word in title])\n",
        "test_data['title'] = test_data['title'].apply(lambda title: [stemmer.stem(word) for word in title])\n",
        "\n",
        "print(\"Stemmed Tokens:\", train_data['title'].head())\n",
        "print(\"Stemmed Tokens:\", test_data['title'].head())"
      ]
    },
    {
      "cell_type": "markdown",
      "metadata": {
        "id": "6hTG-aRjzkOh"
      },
      "source": [
        "Apply TF-IDF to the dataset to conver the words into numerical values for model training"
      ]
    },
    {
      "cell_type": "code",
      "execution_count": null,
      "metadata": {
        "id": "xalkSl2LzkOi"
      },
      "outputs": [],
      "source": [
        "# First, make sure we have the tokenized data ready\n",
        "tokenized_titles = train_data['title'].tolist()  # These should be lists of tokens\n",
        "\n",
        "# Train a Word2Vec model\n",
        "embedding_dim = 100  # You can adjust this dimension\n",
        "w2v_model = Word2Vec(tokenized_titles, vector_size=embedding_dim, window=5, min_count=1, workers=4)"
      ]
    },
    {
      "cell_type": "code",
      "execution_count": null,
      "metadata": {
        "id": "YzhZiCebzkOj"
      },
      "outputs": [],
      "source": [
        "def get_document_vector(tokens, model, embedding_dim):\n",
        "    vec = np.zeros(embedding_dim)\n",
        "    count = 0\n",
        "    for word in tokens:\n",
        "        try:\n",
        "            vec += model.wv[word]\n",
        "            count += 1\n",
        "        except KeyError:\n",
        "            # Skip words not in vocabulary\n",
        "            continue\n",
        "    if count != 0:\n",
        "        vec /= count\n",
        "    return vec\n",
        "\n",
        "# Convert documents to vectors\n",
        "X_train_vectors = np.array([get_document_vector(tokens, w2v_model, embedding_dim) for tokens in train_data['title']])\n",
        "X_test_vectors = np.array([get_document_vector(tokens, w2v_model, embedding_dim) for tokens in test_data['title']])\n",
        "\n",
        "# Now use these vectors for training instead of TF-IDF\n",
        "X_train, X_test, y_train, y_test = train_test_split(X_train_vectors, train_data['label'], test_size=0.2, random_state=42)\n",
        "\n",
        "svm_model = SVC(kernel='linear')  # You can choose other kernels like 'rbf', 'poly', etc.\n",
        "svm_model.fit(X_train, y_train)\n",
        "\n",
        "# Predict on the test set\n",
        "y_pred_svm = svm_model.predict(X_test)"
      ]
    },
    {
      "cell_type": "code",
      "execution_count": null,
      "metadata": {
        "colab": {
          "base_uri": "https://localhost:8080/"
        },
        "id": "V7QTaimuzkOk",
        "outputId": "e57abc6c-6758-4b01-d5f9-877541f2d8f8"
      },
      "outputs": [
        {
          "name": "stdout",
          "output_type": "stream",
          "text": [
            "Accuracy: 0.82389108476065\n",
            "Classification Report:\n",
            "               precision    recall  f1-score   support\n",
            "\n",
            "           0       0.81      0.87      0.84      3529\n",
            "           1       0.85      0.78      0.81      3302\n",
            "\n",
            "    accuracy                           0.82      6831\n",
            "   macro avg       0.83      0.82      0.82      6831\n",
            "weighted avg       0.83      0.82      0.82      6831\n",
            "\n",
            "R²: 0.2947855778005517\n"
          ]
        }
      ],
      "source": [
        "# Evaluate the model\n",
        "accuracy = accuracy_score(y_test, y_pred_svm)\n",
        "report = classification_report(y_test, y_pred_svm)\n",
        "\n",
        "# Calculate R²\n",
        "r2 = r2_score(y_test, y_pred_svm)\n",
        "\n",
        "print(f\"Accuracy: {accuracy}\")\n",
        "print(\"Classification Report:\\n\", report)\n",
        "print(f\"R²: {r2}\")"
      ]
    },
    {
      "cell_type": "code",
      "execution_count": null,
      "metadata": {
        "colab": {
          "base_uri": "https://localhost:8080/",
          "height": 564
        },
        "id": "F9U_IEWbzkOm",
        "outputId": "36cc3900-d4e7-4c1c-a803-689c414c2999"
      },
      "outputs": [
        {
          "data": {
            "image/png": "[encoded data removed]",
            "text/plain": [
              "<Figure size 800x600 with 2 Axes>"
            ]
          },
          "metadata": {},
          "output_type": "display_data"
        }
      ],
      "source": [
        "# Calculate the confusion matrix\n",
        "conf_matrix = confusion_matrix(y_test, y_pred_svm)\n",
        "\n",
        "# Plot the confusion matrix\n",
        "plt.figure(figsize=(8, 6))\n",
        "sns.heatmap(conf_matrix, annot=True, fmt='d', cmap='Blues', xticklabels=['Fake', 'Real'], yticklabels=['Fake', 'Real'])\n",
        "plt.xlabel('Predicted')\n",
        "plt.ylabel('Actual')\n",
        "plt.title('Confusion Matrix')\n",
        "plt.show()"
      ]
    },
    {
      "cell_type": "code",
      "execution_count": null,
      "metadata": {
        "id": "sEeBFgiczkOm"
      },
      "outputs": [],
      "source": [
        "X_test_unlabeled = test_data['title'].tolist()\n",
        "\n",
        "# Predict labels for the unlabeled data\n",
        "predicted_labels = svm_model.predict(X_test_unlabeled)\n",
        "\n",
        "test_data['label'] = predicted_labels\n",
        "\n",
        "# Display the first few rows of the updated testing data\n",
        "print(test_data.head())"
      ]
    },
    {
      "cell_type": "code",
      "execution_count": null,
      "metadata": {
        "id": "Cl1e7O3AzkOn"
      },
      "outputs": [],
      "source": [
        "# Make sure title is string, not list\n",
        "test_data['title'] = test_data['title'].apply(lambda x: ' '.join(x) if isinstance(x, list) else x)\n",
        "# Export respecting original format\n",
        "test_data[['label', 'title']].to_csv(\n",
        "    r'word2Vec_test_data.csv',\n",
        "    sep='\\t',  # TAB separator\n",
        "    index=False,\n",
        "    header=False  # No column names\n",
        ")\n",
        "print(\"\\n:white_check_mark: Predictions exported successfully in correct format!\")\n"
      ]
    }
  ],
  "metadata": {
    "colab": {
      "provenance": []
    },
    "kernelspec": {
      "display_name": "Python 3",
      "language": "python",
      "name": "python3"
    },
    "language_info": {
      "codemirror_mode": {
        "name": "ipython",
        "version": 3
      },
      "file_extension": ".py",
      "mimetype": "text/x-python",
      "name": "python",
      "nbconvert_exporter": "python",
      "pygments_lexer": "ipython3",
      "version": "3.13.1"
    }
  },
  "nbformat": 4,
  "nbformat_minor": 0
}
